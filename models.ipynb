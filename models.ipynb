{
 "cells": [
  {
   "cell_type": "markdown",
   "metadata": {},
   "source": [
    "Imports + read data"
   ]
  },
  {
   "cell_type": "code",
   "execution_count": 18,
   "metadata": {},
   "outputs": [],
   "source": [
    "import pandas as pd\n",
    "import numpy as np\n",
    "from sklearn.preprocessing import StandardScaler\n",
    "from sklearn.ensemble import RandomForestClassifier\n",
    "from sklearn.linear_model import LogisticRegression\n",
    "from sklearn.tree import DecisionTreeClassifier\n",
    "from sklearn.metrics import f1_score, accuracy_score\n",
    "from sklearn.model_selection import train_test_split\n",
    "import matplotlib.pyplot as plt\n",
    "from sklearn.ensemble import GradientBoostingClassifier\n",
    "from sklearn.model_selection import GridSearchCV\n",
    "from sklearn.metrics import accuracy_score, classification_report\n",
    "from sklearn.pipeline import Pipeline\n"
   ]
  },
  {
   "cell_type": "code",
   "execution_count": 5,
   "metadata": {},
   "outputs": [],
   "source": [
    "# Update for your file path maybe? \n",
    "trimmed_dataset = pd.read_csv(\"diabetes_dataset_trimmed.csv\")\n",
    "\n",
    "labels = trimmed_dataset.iloc[:, -1]\n",
    "features = trimmed_dataset.iloc[:, :-1]\n",
    "\n",
    "X_train, X_test, y_train, y_test = train_test_split(features, labels, test_size=0.2, random_state=42)\n"
   ]
  },
  {
   "cell_type": "markdown",
   "metadata": {},
   "source": [
    "# Logistic Regression"
   ]
  },
  {
   "cell_type": "code",
   "execution_count": 6,
   "metadata": {},
   "outputs": [
    {
     "name": "stdout",
     "output_type": "stream",
     "text": [
      "{'Logistic Regression': ['F1 Score: 0.2390', 'Accuracy: 0.8650']}\n"
     ]
    }
   ],
   "source": [
    "scaler = StandardScaler()\n",
    "normalized_features_train_log = scaler.fit_transform(X_train)\n",
    "\n",
    "logreg = LogisticRegression(random_state=42)\n",
    "logreg.fit(normalized_features_train_log, y_train)\n",
    "\n",
    "normalized_features_test_log = scaler.transform(X_test)\n",
    "\n",
    "test_predictions_log = logreg.predict(normalized_features_test_log)\n",
    "\n",
    "f1_log_reg = f1_score(y_test, test_predictions_log, zero_division=1)  \n",
    "accuracy_log_reg = accuracy_score(y_test, test_predictions_log)\n",
    "\n",
    "accuracy_f1_dict = {\n",
    "    'Logistic Regression': [f'F1 Score: {f1_log_reg:.4f}', f'Accuracy: {accuracy_log_reg:.4f}']\n",
    "}\n",
    "\n",
    "print(accuracy_f1_dict)"
   ]
  },
  {
   "cell_type": "markdown",
   "metadata": {},
   "source": [
    "# Decision Tree"
   ]
  },
  {
   "cell_type": "code",
   "execution_count": null,
   "metadata": {},
   "outputs": [
    {
     "name": "stdout",
     "output_type": "stream",
     "text": [
      "{'Decision Tree': ['F1 Score: 0.2842', 'Accuracy: 0.8323']}\n"
     ]
    }
   ],
   "source": [
    "scaler = StandardScaler()\n",
    "normalized_features_train_log = scaler.fit_transform(X_train)\n",
    "\n",
    "DT = DecisionTreeClassifier(random_state=42)\n",
    "DT.fit(normalized_features_train_log, y_train)\n",
    "\n",
    "normalized_features_test_log = scaler.transform(X_test)\n",
    "\n",
    "test_predictions_dt = DT.predict(normalized_features_test_log)\n",
    "\n",
    "f1_dt = f1_score(y_test, test_predictions_dt, zero_division=1)  \n",
    "accuracy_dt = accuracy_score(y_test, test_predictions_dt)\n",
    "\n",
    "accuracy_f1_dict = {\n",
    "    'Decision Tree': [f'F1 Score: {f1_dt:.4f}', f'Accuracy: {accuracy_dt:.4f}']\n",
    "}\n",
    "\n",
    "print(accuracy_f1_dict)"
   ]
  },
  {
   "cell_type": "markdown",
   "metadata": {},
   "source": [
    "# Random Forest"
   ]
  },
  {
   "cell_type": "code",
   "execution_count": 8,
   "metadata": {},
   "outputs": [
    {
     "name": "stdout",
     "output_type": "stream",
     "text": [
      "F1 Score: 0.2939 Accuracy: 0.8446\n"
     ]
    }
   ],
   "source": [
    "# Random Forest\n",
    "normalized_features_train_rf = scaler.fit_transform(X_train)\n",
    "\n",
    "rf = RandomForestClassifier(random_state=42)\n",
    "rf.fit(normalized_features_train_rf, y_train)\n",
    "\n",
    "normalized_features_test_rf = scaler.transform(X_test)\n",
    "\n",
    "test_predictions_rf = rf.predict(normalized_features_test_rf)\n",
    "\n",
    "f1_rf = f1_score(y_test, test_predictions_rf, zero_division=1)\n",
    "accuracy_rf = accuracy_score(y_test, test_predictions_rf)\n",
    "\n",
    "accuracy_f1_dict['Random Forest'] = [f'F1 Score: {f1_rf:.4f}', f'Accuracy: {accuracy_rf:.4f}']\n",
    "\n",
    "print(f'F1 Score: {f1_rf:.4f}', f'Accuracy: {accuracy_rf:.4f}')"
   ]
  },
  {
   "cell_type": "markdown",
   "metadata": {},
   "source": [
    "# XGBoost"
   ]
  },
  {
   "cell_type": "code",
   "execution_count": null,
   "metadata": {},
   "outputs": [
    {
     "name": "stdout",
     "output_type": "stream",
     "text": [
      "{'XGBoost': ['F1 Score: 0.2570', 'Accuracy: 0.8673']}\n"
     ]
    }
   ],
   "source": [
    "scaler = StandardScaler()\n",
    "normalized_features_train_log = scaler.fit_transform(X_train)\n",
    "\n",
    "XGB = GradientBoostingClassifier(random_state=42)\n",
    "XGB.fit(normalized_features_train_log, y_train)\n",
    "\n",
    "normalized_features_test_log = scaler.transform(X_test)\n",
    "\n",
    "test_predictions_XGB = XGB.predict(normalized_features_test_log)\n",
    "\n",
    "f1_XGB = f1_score(y_test, test_predictions_XGB, zero_division=1)  \n",
    "accuracy_XGB = accuracy_score(y_test, test_predictions_XGB)\n",
    "\n",
    "accuracy_f1_dict = {\n",
    "    'XGBoost': [f'F1 Score: {f1_XGB:.4f}', f'Accuracy: {accuracy_XGB:.4f}']\n",
    "}\n",
    "\n",
    "print(accuracy_f1_dict)"
   ]
  },
  {
   "cell_type": "markdown",
   "metadata": {},
   "source": [
    "# Create an sklearn pipeline for these models."
   ]
  },
  {
   "cell_type": "code",
   "execution_count": null,
   "metadata": {},
   "outputs": [
    {
     "name": "stdout",
     "output_type": "stream",
     "text": [
      "{'Logistic Regression': ['F1 Score: 0.2390', 'Accuracy: 0.8650'], 'Decision Tree': ['F1 Score: 0.2842', 'Accuracy: 0.8323'], 'Random Forest': ['F1 Score: 0.2939', 'Accuracy: 0.8446'], 'XGBoost': ['F1 Score: 0.2570', 'Accuracy: 0.8673']}\n"
     ]
    }
   ],
   "source": [
    "# Example dataset (Replace with your own dataset)\n",
    "# X, y = load_your_data()  # Replace with actual data loading code\n",
    "# Update for your file path maybe? \n",
    "trimmed_dataset = pd.read_csv(\"diabetes_dataset_trimmed.csv\")\n",
    "\n",
    "\n",
    "labels = trimmed_dataset.iloc[:, -1]\n",
    "features = trimmed_dataset.iloc[:, :-1]\n",
    "\n",
    "X_train, X_test, y_train, y_test = train_test_split(features, labels, test_size=0.2, random_state=42)\n",
    "\n",
    "# Standardizing the data\n",
    "scaler = StandardScaler()\n",
    "normalized_features_train_log = scaler.fit_transform(X_train)\n",
    "normalized_features_test_log = scaler.transform(X_test)\n",
    "\n",
    "# Models to evaluate\n",
    "models = {\n",
    "    \"Logistic Regression\": LogisticRegression(random_state=42),\n",
    "    \"Decision Tree\": DecisionTreeClassifier(random_state=42),\n",
    "    \"Random Forest\": RandomForestClassifier(random_state=42),\n",
    "    \"XGBoost\": GradientBoostingClassifier(random_state=42),\n",
    "}\n",
    "\n",
    "accuracy_f1_dict = {}\n",
    "\n",
    "# Train and evaluate each model\n",
    "for model_name, model in models.items():\n",
    "    model.fit(normalized_features_train_log, y_train)\n",
    "    test_predictions = model.predict(normalized_features_test_log)\n",
    "    f1 = f1_score(y_test, test_predictions, zero_division=1)\n",
    "    accuracy = accuracy_score(y_test, test_predictions)\n",
    "    accuracy_f1_dict[model_name] = [f'F1 Score: {f1:.4f}', f'Accuracy: {accuracy:.4f}']\n",
    "\n",
    "# Print the results\n",
    "print(accuracy_f1_dict)"
   ]
  },
  {
   "cell_type": "markdown",
   "metadata": {},
   "source": [
    "# All Datasets All Models"
   ]
  },
  {
   "cell_type": "code",
   "execution_count": 19,
   "metadata": {},
   "outputs": [
    {
     "name": "stdout",
     "output_type": "stream",
     "text": [
      "Results for diabetes_balanced_filtered.csv:\n",
      "  Logistic Regression: ['F1 Score: 0.7480', 'Accuracy: 0.7437']\n",
      "  Decision Tree: ['F1 Score: 0.6544', 'Accuracy: 0.6681']\n",
      "  Random Forest: ['F1 Score: 0.7126', 'Accuracy: 0.7062']\n",
      "  XGBoost: ['F1 Score: 0.7608', 'Accuracy: 0.7505']\n",
      "\n",
      "Results for diabetes_balanced_full.csv:\n",
      "  Logistic Regression: ['F1 Score: 0.7531', 'Accuracy: 0.7484']\n",
      "  Decision Tree: ['F1 Score: 0.6487', 'Accuracy: 0.6493']\n",
      "  Random Forest: ['F1 Score: 0.7474', 'Accuracy: 0.7375']\n",
      "  XGBoost: ['F1 Score: 0.7628', 'Accuracy: 0.7536']\n",
      "\n",
      "Results for diabetes_unbalanced_full.csv:\n",
      "  Logistic Regression: ['F1 Score: 0.2538', 'Accuracy: 0.8659']\n",
      "  Decision Tree: ['F1 Score: 0.3150', 'Accuracy: 0.7984']\n",
      "  Random Forest: ['F1 Score: 0.2561', 'Accuracy: 0.8607']\n",
      "  XGBoost: ['F1 Score: 0.2662', 'Accuracy: 0.8675']\n",
      "\n",
      "Results for diabetes_unbalanced_filtered.csv:\n",
      "  Logistic Regression: ['F1 Score: 0.2390', 'Accuracy: 0.8650']\n",
      "  Decision Tree: ['F1 Score: 0.2842', 'Accuracy: 0.8323']\n",
      "  Random Forest: ['F1 Score: 0.2939', 'Accuracy: 0.8446']\n",
      "  XGBoost: ['F1 Score: 0.2570', 'Accuracy: 0.8673']\n",
      "\n"
     ]
    }
   ],
   "source": [
    "# List of file paths for the datasets\n",
    "dataset_files = [\n",
    "    \"diabetes_balanced_filtered.csv\",  # Replace with actual file paths\n",
    "    \"diabetes_balanced_full.csv\",\n",
    "    \"diabetes_unbalanced_full.csv\",\n",
    "    \"diabetes_unbalanced_filtered.csv\",\n",
    "]\n",
    "\n",
    "# Models to evaluate\n",
    "models = {\n",
    "    \"Logistic Regression\": LogisticRegression(random_state=42),\n",
    "    \"Decision Tree\": DecisionTreeClassifier(random_state=42),\n",
    "    \"Random Forest\": RandomForestClassifier(random_state=42),\n",
    "    \"XGBoost\": GradientBoostingClassifier(random_state=42),\n",
    "}\n",
    "\n",
    "# Dictionary to store results for all datasets\n",
    "all_results = {}\n",
    "\n",
    "# Loop through each file\n",
    "for file in dataset_files:\n",
    "    # Load the dataset\n",
    "    df = pd.read_csv(file)  # Modify if the format isn't CSV\n",
    "    dataset_name = file.split('/')[-1]  # Use the file name as the dataset name\n",
    "    \n",
    "    # Assume the label is in a column named 'label'\n",
    "    X = df.drop(columns=[\"Diabetes_binary\"])  # Features\n",
    "    y = df[\"Diabetes_binary\"]                 # Target\n",
    "    \n",
    "    # Splitting the dataset\n",
    "    X_train, X_test, y_train, y_test = train_test_split(X, y, test_size=0.2, random_state=42)\n",
    "\n",
    "    # Dictionary to store results for the current dataset\n",
    "    dataset_results = {}\n",
    "\n",
    "    # Train and evaluate each model using a pipeline\n",
    "    for model_name, model in models.items():\n",
    "        # Define the pipeline\n",
    "        pipeline = Pipeline([\n",
    "            ('scaler', StandardScaler()),\n",
    "            ('classifier', model)\n",
    "        ])\n",
    "        \n",
    "        # Fit the pipeline\n",
    "        pipeline.fit(X_train, y_train)\n",
    "        \n",
    "        # Make predictions\n",
    "        test_predictions = pipeline.predict(X_test)\n",
    "        \n",
    "        # Calculate metrics\n",
    "        f1 = f1_score(y_test, test_predictions, zero_division=1)\n",
    "        accuracy = accuracy_score(y_test, test_predictions)\n",
    "        dataset_results[model_name] = [f'F1 Score: {f1:.4f}', f'Accuracy: {accuracy:.4f}']\n",
    "\n",
    "    # Store the results for the current dataset\n",
    "    all_results[dataset_name] = dataset_results\n",
    "\n",
    "# Print the results for all datasets\n",
    "for dataset_name, results in all_results.items():\n",
    "    print(f\"Results for {dataset_name}:\")\n",
    "    for model_name, metrics in results.items():\n",
    "        print(f\"  {model_name}: {metrics}\")\n",
    "    print()"
   ]
  },
  {
   "cell_type": "code",
   "execution_count": null,
   "metadata": {},
   "outputs": [],
   "source": []
  }
 ],
 "metadata": {
  "kernelspec": {
   "display_name": "09615",
   "language": "python",
   "name": "python3"
  },
  "language_info": {
   "codemirror_mode": {
    "name": "ipython",
    "version": 3
   },
   "file_extension": ".py",
   "mimetype": "text/x-python",
   "name": "python",
   "nbconvert_exporter": "python",
   "pygments_lexer": "ipython3",
   "version": "3.12.5"
  },
  "orig_nbformat": 4
 },
 "nbformat": 4,
 "nbformat_minor": 2
}
