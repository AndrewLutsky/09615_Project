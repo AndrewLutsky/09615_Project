{
 "cells": [
  {
   "cell_type": "markdown",
   "metadata": {},
   "source": [
    "Imports + read data"
   ]
  },
  {
   "cell_type": "code",
   "execution_count": null,
   "metadata": {},
   "outputs": [],
   "source": [
    "import pandas as pd\n",
    "import numpy as np\n",
    "from sklearn.preprocessing import StandardScaler\n",
    "from sklearn.ensemble import RandomForestClassifier\n",
    "from sklearn.linear_model import LogisticRegression\n",
    "from sklearn.tree import DecisionTreeClassifier\n",
    "from sklearn.metrics import f1_score, accuracy_score\n",
    "from sklearn.model_selection import train_test_split\n",
    "import matplotlib.pyplot as plt\n",
    "from sklearn.ensemble import GradientBoostingClassifier\n",
    "from sklearn.model_selection import GridSearchCV\n",
    "from sklearn.metrics import accuracy_score, classification_report\n"
   ]
  },
  {
   "cell_type": "code",
   "execution_count": 5,
   "metadata": {},
   "outputs": [],
   "source": [
    "# Update for your file path maybe? \n",
    "trimmed_dataset = pd.read_csv(\"diabetes_dataset_trimmed.csv\")\n",
    "\n",
    "labels = trimmed_dataset.iloc[:, -1]\n",
    "features = trimmed_dataset.iloc[:, :-1]\n",
    "\n",
    "X_train, X_test, y_train, y_test = train_test_split(features, labels, test_size=0.2, random_state=42)\n"
   ]
  },
  {
   "cell_type": "markdown",
   "metadata": {},
   "source": [
    "# Logistic Regression"
   ]
  },
  {
   "cell_type": "code",
   "execution_count": 6,
   "metadata": {},
   "outputs": [
    {
     "name": "stdout",
     "output_type": "stream",
     "text": [
      "{'Logistic Regression': ['F1 Score: 0.2390', 'Accuracy: 0.8650']}\n"
     ]
    }
   ],
   "source": [
    "scaler = StandardScaler()\n",
    "normalized_features_train_log = scaler.fit_transform(X_train)\n",
    "\n",
    "logreg = LogisticRegression(random_state=42)\n",
    "logreg.fit(normalized_features_train_log, y_train)\n",
    "\n",
    "normalized_features_test_log = scaler.transform(X_test)\n",
    "\n",
    "test_predictions_log = logreg.predict(normalized_features_test_log)\n",
    "\n",
    "f1_log_reg = f1_score(y_test, test_predictions_log, zero_division=1)  \n",
    "accuracy_log_reg = accuracy_score(y_test, test_predictions_log)\n",
    "\n",
    "accuracy_f1_dict = {\n",
    "    'Logistic Regression': [f'F1 Score: {f1_log_reg:.4f}', f'Accuracy: {accuracy_log_reg:.4f}']\n",
    "}\n",
    "\n",
    "print(accuracy_f1_dict)"
   ]
  },
  {
   "cell_type": "markdown",
   "metadata": {},
   "source": [
    "# Decision Tree"
   ]
  },
  {
   "cell_type": "code",
   "execution_count": null,
   "metadata": {},
   "outputs": [
    {
     "name": "stdout",
     "output_type": "stream",
     "text": [
      "{'Decision Tree': ['F1 Score: 0.2842', 'Accuracy: 0.8323']}\n"
     ]
    }
   ],
   "source": [
    "scaler = StandardScaler()\n",
    "normalized_features_train_log = scaler.fit_transform(X_train)\n",
    "\n",
    "DT = DecisionTreeClassifier(random_state=42)\n",
    "DT.fit(normalized_features_train_log, y_train)\n",
    "\n",
    "normalized_features_test_log = scaler.transform(X_test)\n",
    "\n",
    "test_predictions_dt = DT.predict(normalized_features_test_log)\n",
    "\n",
    "f1_dt = f1_score(y_test, test_predictions_dt, zero_division=1)  \n",
    "accuracy_dt = accuracy_score(y_test, test_predictions_dt)\n",
    "\n",
    "accuracy_f1_dict = {\n",
    "    'Decision Tree': [f'F1 Score: {f1_dt:.4f}', f'Accuracy: {accuracy_dt:.4f}']\n",
    "}\n",
    "\n",
    "print(accuracy_f1_dict)"
   ]
  },
  {
   "cell_type": "markdown",
   "metadata": {},
   "source": [
    "# Random Forest"
   ]
  },
  {
   "cell_type": "code",
   "execution_count": 8,
   "metadata": {},
   "outputs": [
    {
     "name": "stdout",
     "output_type": "stream",
     "text": [
      "F1 Score: 0.2939 Accuracy: 0.8446\n"
     ]
    }
   ],
   "source": [
    "# Random Forest\n",
    "normalized_features_train_rf = scaler.fit_transform(X_train)\n",
    "\n",
    "rf = RandomForestClassifier(random_state=42)\n",
    "rf.fit(normalized_features_train_rf, y_train)\n",
    "\n",
    "normalized_features_test_rf = scaler.transform(X_test)\n",
    "\n",
    "test_predictions_rf = rf.predict(normalized_features_test_rf)\n",
    "\n",
    "f1_rf = f1_score(y_test, test_predictions_rf, zero_division=1)\n",
    "accuracy_rf = accuracy_score(y_test, test_predictions_rf)\n",
    "\n",
    "accuracy_f1_dict['Random Forest'] = [f'F1 Score: {f1_rf:.4f}', f'Accuracy: {accuracy_rf:.4f}']\n",
    "\n",
    "print(f'F1 Score: {f1_rf:.4f}', f'Accuracy: {accuracy_rf:.4f}')"
   ]
  },
  {
   "cell_type": "markdown",
   "metadata": {},
   "source": [
    "# XGBoost"
   ]
  },
  {
   "cell_type": "code",
   "execution_count": 11,
   "metadata": {},
   "outputs": [
    {
     "name": "stdout",
     "output_type": "stream",
     "text": [
      "{'XGBoost': ['F1 Score: 0.2570', 'Accuracy: 0.8673']}\n"
     ]
    }
   ],
   "source": [
    "scaler = StandardScaler()\n",
    "normalized_features_train_log = scaler.fit_transform(X_train)\n",
    "\n",
    "XGB = GradientBoostingClassifier(random_state=42)\n",
    "XGB.fit(normalized_features_train_log, y_train)\n",
    "\n",
    "normalized_features_test_log = scaler.transform(X_test)\n",
    "\n",
    "test_predictions_XGB = XGB.predict(normalized_features_test_log)\n",
    "\n",
    "f1_XGB = f1_score(y_test, test_predictions_XGB, zero_division=1)  \n",
    "accuracy_XGB = accuracy_score(y_test, test_predictions_XGB)\n",
    "\n",
    "accuracy_f1_dict = {\n",
    "    'XGBoost': [f'F1 Score: {f1_XGB:.4f}', f'Accuracy: {accuracy_XGB:.4f}']\n",
    "}\n",
    "\n",
    "print(accuracy_f1_dict)"
   ]
  }
 ],
 "metadata": {
  "kernelspec": {
   "display_name": "09615",
   "language": "python",
   "name": "python3"
  },
  "language_info": {
   "codemirror_mode": {
    "name": "ipython",
    "version": 3
   },
   "file_extension": ".py",
   "mimetype": "text/x-python",
   "name": "python",
   "nbconvert_exporter": "python",
   "pygments_lexer": "ipython3",
   "version": "3.12.5"
  },
  "orig_nbformat": 4
 },
 "nbformat": 4,
 "nbformat_minor": 2
}
